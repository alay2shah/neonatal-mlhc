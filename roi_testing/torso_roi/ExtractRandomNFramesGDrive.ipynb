{
  "cells": [
    {
      "cell_type": "code",
      "source": [
        "import os\n",
        "import cv2\n",
        "import random"
      ],
      "metadata": {
        "id": "lKt6vK6XpKTm"
      },
      "execution_count": null,
      "outputs": []
    },
    {
      "cell_type": "code",
      "execution_count": null,
      "metadata": {
        "colab": {
          "base_uri": "https://localhost:8080/"
        },
        "id": "5RZFtClJBAEu",
        "outputId": "ddef7d1b-6734-4323-f3fc-f957086324b9"
      },
      "outputs": [
        {
          "output_type": "stream",
          "name": "stdout",
          "text": [
            "Mounted at /content/drive\n"
          ]
        }
      ],
      "source": [
        "from google.colab import drive\n",
        "drive.mount('/content/drive')"
      ]
    },
    {
      "cell_type": "code",
      "source": [
        "# CHANGE THIS: folder where your videos live\n",
        "GDRIVE_VIDEO_FOLDER = '/content/drive/MyDrive/darker_skin_BCH'\n",
        "OUTPUT_FRAMES_DIR = '/content/drive/MyDrive/darker_skin_BCH_random'\n",
        "\n",
        "# Make output dir if it doesn't exist\n",
        "os.makedirs(OUTPUT_FRAMES_DIR, exist_ok=True)\n"
      ],
      "metadata": {
        "id": "aBJ6WkyL2ZoG"
      },
      "execution_count": null,
      "outputs": []
    },
    {
      "cell_type": "code",
      "source": [
        "def extract_n_random_frames_across_videos(\n",
        "    video_folder: str,\n",
        "    output_folder: str,\n",
        "    n: int = 50\n",
        "):\n",
        "    os.makedirs(output_folder, exist_ok=True)\n",
        "\n",
        "    # Collect all video files\n",
        "    video_files = [f for f in os.listdir(video_folder)\n",
        "                   if f.lower().endswith(('.mp4', '.mov', '.avi'))]\n",
        "\n",
        "    print(f\"Found {len(video_files)} videos in {video_folder}.\")\n",
        "\n",
        "    # Get (video_path, total_frames) tuples\n",
        "    video_info = []\n",
        "    for filename in video_files:\n",
        "        path = os.path.join(video_folder, filename)\n",
        "        cap = cv2.VideoCapture(path)\n",
        "        frame_count = int(cap.get(cv2.CAP_PROP_FRAME_COUNT))\n",
        "        cap.release()\n",
        "        if frame_count > 0:\n",
        "            video_info.append((path, frame_count))\n",
        "\n",
        "    total_frames_available = sum(f for _, f in video_info)\n",
        "    if n > total_frames_available:\n",
        "        print(f\"⚠️ Requested {n} frames, but only {total_frames_available} available. Reducing to {total_frames_available}.\")\n",
        "        n = total_frames_available\n",
        "\n",
        "    # Sample n frame indices globally across all videos\n",
        "    global_frame_indices = sorted(random.sample(range(total_frames_available), n))\n",
        "\n",
        "    print(f\"Sampling {n} frames across all videos...\")\n",
        "\n",
        "    frame_counter = 0\n",
        "    global_index_pointer = 0\n",
        "    current_global_index = global_frame_indices[global_index_pointer]\n",
        "\n",
        "    frame_offset = 0\n",
        "    for path, frame_count in video_info:\n",
        "        filename = os.path.basename(path)\n",
        "        cap = cv2.VideoCapture(path)\n",
        "\n",
        "        while current_global_index < frame_offset + frame_count:\n",
        "            local_frame_idx = current_global_index - frame_offset\n",
        "            cap.set(cv2.CAP_PROP_POS_FRAMES, local_frame_idx)\n",
        "            success, frame = cap.read()\n",
        "\n",
        "            if success:\n",
        "                frame_name = f'{os.path.splitext(filename)[0]}_global{current_global_index}_local{local_frame_idx}.jpg'\n",
        "                frame_path = os.path.join(output_folder, frame_name)\n",
        "                cv2.imwrite(frame_path, frame)\n",
        "                print(f\"✅ Saved: {frame_name}\")\n",
        "            else:\n",
        "                print(f\"❌ Failed to read frame {local_frame_idx} from {filename}\")\n",
        "\n",
        "            frame_counter += 1\n",
        "            global_index_pointer += 1\n",
        "            if global_index_pointer >= len(global_frame_indices):\n",
        "                break\n",
        "            current_global_index = global_frame_indices[global_index_pointer]\n",
        "\n",
        "        frame_offset += frame_count\n",
        "        cap.release()\n",
        "        if global_index_pointer >= len(global_frame_indices):\n",
        "            break\n",
        "\n",
        "    print(f\"🎉 Done! Saved {frame_counter} frames to {output_folder}.\")\n"
      ],
      "metadata": {
        "id": "oksiEhto4gnB"
      },
      "execution_count": null,
      "outputs": []
    },
    {
      "cell_type": "code",
      "source": [
        "extract_n_random_frames_across_videos(GDRIVE_VIDEO_FOLDER, OUTPUT_FRAMES_DIR, 25)"
      ],
      "metadata": {
        "colab": {
          "base_uri": "https://localhost:8080/"
        },
        "id": "JKuLiAg24h9f",
        "outputId": "5b128078-61a0-4ace-e6bf-91bef9fea26e"
      },
      "execution_count": null,
      "outputs": [
        {
          "output_type": "stream",
          "name": "stdout",
          "text": [
            "Found 14 videos in /content/drive/MyDrive/darker_skin_BCH.\n",
            "Sampling 25 frames across all videos...\n",
            "✅ Saved: 2025-04-17_12-08-25_global1655_local1655.jpg\n",
            "✅ Saved: 2025-04-17_12-08-25_global2177_local2177.jpg\n",
            "✅ Saved: 2025-04-17_12-11-39_global5643_local1970.jpg\n",
            "✅ Saved: 2025-04-17_12-11-39_global5664_local1991.jpg\n",
            "✅ Saved: 2025-04-17_12-19-49_global9424_local1117.jpg\n",
            "✅ Saved: 2025-04-17_12-19-49_global10581_local2274.jpg\n",
            "✅ Saved: 2025-04-17_12-29-50_global20649_local1853.jpg\n",
            "✅ Saved: 2025-04-17_12-29-50_global21754_local2958.jpg\n",
            "✅ Saved: 2025-04-17_17-20-39_global25023_local1133.jpg\n",
            "✅ Saved: 2025-04-17_17-27-44_global31561_local1031.jpg\n",
            "✅ Saved: 2025-04-17_17-27-44_global31812_local1282.jpg\n",
            "✅ Saved: 2025-04-17_17-27-44_global32213_local1683.jpg\n",
            "✅ Saved: 2025-04-17_17-27-44_global34695_local4165.jpg\n",
            "✅ Saved: 2025-04-17_17-37-18_global35792_local244.jpg\n",
            "✅ Saved: 2025-04-17_17-33-25_global39976_local340.jpg\n",
            "✅ Saved: 2025-04-17_17-33-25_global40227_local591.jpg\n",
            "✅ Saved: 2025-04-17_17-33-25_global41457_local1821.jpg\n",
            "✅ Saved: 2025-04-17_17-33-25_global43537_local3901.jpg\n",
            "✅ Saved: 2025-04-17_17-33-25_global43946_local4310.jpg\n",
            "✅ Saved: 2025-04-17_17-33-25_global44695_local5059.jpg\n",
            "✅ Saved: 2025-04-17_17-43-37_global51270_local3107.jpg\n",
            "✅ Saved: 2025-04-17_17-43-37_global51283_local3120.jpg\n",
            "✅ Saved: 2025-04-17_17-46-14_global53955_local1816.jpg\n",
            "✅ Saved: 2025-04-17_17-46-14_global54056_local1917.jpg\n",
            "✅ Saved: 2025-04-17_17-46-14_global54337_local2198.jpg\n",
            "🎉 Done! Saved 25 frames to /content/drive/MyDrive/darker_skin_BCH_random.\n"
          ]
        }
      ]
    }
  ],
  "metadata": {
    "colab": {
      "provenance": []
    },
    "kernelspec": {
      "display_name": "Python 3",
      "name": "python3"
    },
    "language_info": {
      "name": "python"
    }
  },
  "nbformat": 4,
  "nbformat_minor": 0
}